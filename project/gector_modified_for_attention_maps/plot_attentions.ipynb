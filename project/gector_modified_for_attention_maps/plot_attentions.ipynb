{
 "cells": [
  {
   "cell_type": "code",
   "execution_count": null,
   "id": "c7ebd006-6eca-4583-a772-33446bd8205b",
   "metadata": {
    "tags": []
   },
   "outputs": [],
   "source": [
    "from gector.gec_model import GecBERTModel\n",
    "from bertviz import model_view # must `pip install bertviz ipywidgets`"
   ]
  },
  {
   "cell_type": "code",
   "execution_count": null,
   "id": "9215b411-7c90-482f-8e1e-ed84708db859",
   "metadata": {
    "tags": []
   },
   "outputs": [],
   "source": [
    "line = \"The quick brwwn fox jumped over the lazy dog\" # sentence to create heatmaps for\n",
    "vocab_path = \"data/output_vocabulary\"\n",
    "model_path = [\"/tmp/roberta-1.th\"] # point this to your .th pretrained weights\n",
    "transformer_model=\"roberta\"\n",
    "special_tokens_fix=1\n",
    "min_error_probability=0.5\n",
    "additional_confidence=0.2\n",
    "additional_del_confidence=0"
   ]
  },
  {
   "cell_type": "code",
   "execution_count": null,
   "id": "13a654b5-8837-4d39-a3aa-76b817c880b9",
   "metadata": {
    "tags": []
   },
   "outputs": [],
   "source": [
    "model = GecBERTModel(vocab_path=vocab_path,\n",
    "                     model_paths=model_path,\n",
    "                     max_len=50, min_len=3,\n",
    "                     iterations=5,\n",
    "                     min_error_probability=min_error_probability,\n",
    "                     lowercase_tokens=0,\n",
    "                     model_name=transformer_model,\n",
    "                     special_tokens_fix=special_tokens_fix,\n",
    "                     log=False,\n",
    "                     confidence=additional_confidence,\n",
    "                     del_confidence=additional_del_confidence,\n",
    "                     is_ensemble=0,\n",
    "                     weigths=None)"
   ]
  },
  {
   "cell_type": "code",
   "execution_count": null,
   "id": "140c957f-400d-4761-be90-4828a8c20928",
   "metadata": {
    "tags": []
   },
   "outputs": [],
   "source": [
    "tokenizer = model.bert.tokenizer\n",
    "inputs = tokenizer.encode(line, return_tensors=\"pt\")\n",
    "tokens = tokenizer.convert_ids_to_tokens(inputs[0])\n",
    "attention = model.bert.bert_model(inputs.cuda())[-1]\n",
    "model_view(attention, tokens)"
   ]
  }
 ],
 "metadata": {
  "kernelspec": {
   "display_name": "Python 3 (ipykernel)",
   "language": "python",
   "name": "python3"
  },
  "language_info": {
   "codemirror_mode": {
    "name": "ipython",
    "version": 3
   },
   "file_extension": ".py",
   "mimetype": "text/x-python",
   "name": "python",
   "nbconvert_exporter": "python",
   "pygments_lexer": "ipython3",
   "version": "3.7.12"
  }
 },
 "nbformat": 4,
 "nbformat_minor": 5
}
